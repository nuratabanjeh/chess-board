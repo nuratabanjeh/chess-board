{
 "cells": [
  {
   "cell_type": "code",
   "execution_count": 8,
   "source": [
    "\n",
    "import numpy as np\n",
    "import matplotlib.pyplot as plt\n",
    " %matplotlib inline\n",
    "\n",
    " grid=''\n",
    " grid=np.ones((8,8,3),np.int8)\n",
    "        \n",
    "\n",
    "       \n",
    "\n",
    "        "
   ],
   "outputs": [
    {
     "output_type": "error",
     "ename": "IndentationError",
     "evalue": "unexpected indent (1730981110.py, line 5)",
     "traceback": [
      "\u001b[0;36m  File \u001b[0;32m\"/tmp/ipykernel_129126/1730981110.py\"\u001b[0;36m, line \u001b[0;32m5\u001b[0m\n\u001b[0;31m    get_ipython().run_line_magic('matplotlib', 'inline')\u001b[0m\n\u001b[0m    ^\u001b[0m\n\u001b[0;31mIndentationError\u001b[0m\u001b[0;31m:\u001b[0m unexpected indent\n"
     ]
    }
   ],
   "metadata": {}
  },
  {
   "cell_type": "code",
   "execution_count": 9,
   "source": [
    "#  help(plt.imshow)\n",
    " plt.imshow(grid)"
   ],
   "outputs": [
    {
     "output_type": "error",
     "ename": "IndentationError",
     "evalue": "unexpected indent (658440227.py, line 2)",
     "traceback": [
      "\u001b[0;36m  File \u001b[0;32m\"/tmp/ipykernel_129126/658440227.py\"\u001b[0;36m, line \u001b[0;32m2\u001b[0m\n\u001b[0;31m    plt.imshow(grid)\u001b[0m\n\u001b[0m    ^\u001b[0m\n\u001b[0;31mIndentationError\u001b[0m\u001b[0;31m:\u001b[0m unexpected indent\n"
     ]
    }
   ],
   "metadata": {}
  }
 ],
 "metadata": {
  "orig_nbformat": 4,
  "language_info": {
   "name": "python",
   "version": "3.9.6",
   "mimetype": "text/x-python",
   "codemirror_mode": {
    "name": "ipython",
    "version": 3
   },
   "pygments_lexer": "ipython3",
   "nbconvert_exporter": "python",
   "file_extension": ".py"
  },
  "kernelspec": {
   "name": "python3",
   "display_name": "Python 3.9.6 64-bit ('.venv': poetry)"
  },
  "interpreter": {
   "hash": "694190dc9bae6309a5f95d754b0788bb3e8c4d6a24c56314ce6859b57515b73b"
  }
 },
 "nbformat": 4,
 "nbformat_minor": 2
}