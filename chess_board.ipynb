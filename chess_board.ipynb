{
 "cells": [
  {
   "cell_type": "code",
   "execution_count": 104,
   "source": [
    "import numpy as np\n",
    "import matplotlib.pyplot as plt\n",
    "# %matplotlib inline \n",
    "\n",
    "       \n",
    "\n",
    "       \n",
    "\n",
    "        "
   ],
   "outputs": [],
   "metadata": {}
  },
  {
   "cell_type": "code",
   "execution_count": 105,
   "source": [
    "class chessBoard:\n",
    "    def __init__(self):\n",
    "        self.grid=np.ones((8,8,3))\n",
    "        self.red=(1,.2,0)\n",
    "        self.blue=(0,1,1) \n",
    "        self.white=(1,1,1)\n",
    "        self.black=(0,0,0)\n",
    "  \n",
    "        for col in range(8):\n",
    "            for row in range(8):\n",
    "                if col % 2 == 0 and row%2 == 1:\n",
    "                 self.grid[col,row]= (0,0,0)\n",
    "                if col%2==1 and row%2==0:\n",
    "                    self.grid[col,row]=(0,0,0) \n",
    "        \n",
    "    def add_red(self,row,column):\n",
    "        self.grid[row,column]=[1,.2,0]\n",
    "        self.red=[row,column]\n",
    "\n",
    "    def add_blue(self,row,column):\n",
    "        self.grid[row,column]=[0,1,1]\n",
    "        self.blue=[row,column]\n",
    "\n",
    "    def render (self):\n",
    "        plt.imshow(self.grid)\n",
    "\n",
    "    def is_under_attack(self):\n",
    "        if self.blue[0]==self.red[0]or self.blue[1]==self.red[1]:\n",
    "            return True\n",
    "        if abs(self.blue[0]-self.red[0])==abs(self.blue[1]-self.red[1]):\n",
    "            return True\n",
    "\n",
    "        return False"
   ],
   "outputs": [],
   "metadata": {}
  },
  {
   "cell_type": "code",
   "execution_count": 106,
   "source": [
    "def test_rows():\n",
    "    chess=chessBoard()\n",
    "    chess.add_red(4,3)\n",
    "    chess.add_blue(4,5)\n",
    "    chess.render()\n",
    "    assert chess.is_under_attack() == True\n",
    "    print('passss')\n",
    "    print('under ATTACK')\n",
    "\n",
    "test_rows()\n"
   ],
   "outputs": [
    {
     "output_type": "stream",
     "name": "stdout",
     "text": [
      "passss\n",
      "under ATTACK\n"
     ]
    },
    {
     "output_type": "display_data",
     "data": {
      "text/plain": [
       "<Figure size 432x288 with 1 Axes>"
      ],
      "image/png": "[encoded data removed]"
     },
     "metadata": {
      "needs_background": "light"
     }
    }
   ],
   "metadata": {}
  },
  {
   "cell_type": "code",
   "execution_count": 107,
   "source": [
    "def test_rows():\n",
    "    chess=chessBoard()\n",
    "    chess.add_red(5,5)\n",
    "    chess.add_blue(3,5)\n",
    "    chess.render()\n",
    "    assert chess.is_under_attack() == True\n",
    "    print('passss')\n",
    "    print('under ATTACK')\n",
    "\n",
    "test_rows()\n"
   ],
   "outputs": [
    {
     "output_type": "stream",
     "name": "stdout",
     "text": [
      "passss\n",
      "under ATTACK\n"
     ]
    },
    {
     "output_type": "display_data",
     "data": {
      "text/plain": [
       "<Figure size 432x288 with 1 Axes>"
      ],
      "image/png": "[encoded data removed]"
     },
     "metadata": {
      "needs_background": "light"
     }
    }
   ],
   "metadata": {}
  },
  {
   "cell_type": "code",
   "execution_count": 108,
   "source": [
    "def test_rows():\n",
    "    chess=chessBoard()\n",
    "    chess.add_red(4,1)\n",
    "    chess.add_blue(6,3)\n",
    "    chess.render()\n",
    "    assert chess.is_under_attack() == True\n",
    "    print('passss')\n",
    "    print('under ATTACK')\n",
    "\n",
    "test_rows()\n"
   ],
   "outputs": [
    {
     "output_type": "stream",
     "name": "stdout",
     "text": [
      "passss\n",
      "under ATTACK\n"
     ]
    },
    {
     "output_type": "display_data",
     "data": {
      "text/plain": [
       "<Figure size 432x288 with 1 Axes>"
      ],
      "image/png": "[encoded data removed]"
     },
     "metadata": {
      "needs_background": "light"
     }
    }
   ],
   "metadata": {}
  },
  {
   "cell_type": "code",
   "execution_count": 109,
   "source": [
    "def test_rows():\n",
    "    chess=chessBoard()\n",
    "    chess.add_red(4,1)\n",
    "    chess.add_blue(6,5)\n",
    "    chess.render()\n",
    "    assert chess.is_under_attack() == False\n",
    "    print('passss')\n",
    "    print('Safe')\n",
    "\n",
    "test_rows()\n"
   ],
   "outputs": [
    {
     "output_type": "stream",
     "name": "stdout",
     "text": [
      "passss\n",
      "Safe\n"
     ]
    },
    {
     "output_type": "display_data",
     "data": {
      "text/plain": [
       "<Figure size 432x288 with 1 Axes>"
      ],
      "image/png": "[encoded data removed]"
     },
     "metadata": {
      "needs_background": "light"
     }
    }
   ],
   "metadata": {}
  }
 ],
 "metadata": {
  "interpreter": {
   "hash": "694190dc9bae6309a5f95d754b0788bb3e8c4d6a24c56314ce6859b57515b73b"
  },
  "kernelspec": {
   "display_name": "Python 3 (ipykernel)",
   "language": "python",
   "name": "python3"
  },
  "language_info": {
   "codemirror_mode": {
    "name": "ipython",
    "version": 3
   },
   "file_extension": ".py",
   "mimetype": "text/x-python",
   "name": "python",
   "nbconvert_exporter": "python",
   "pygments_lexer": "ipython3",
   "version": "3.9.6"
  }
 },
 "nbformat": 4,
 "nbformat_minor": 4
}